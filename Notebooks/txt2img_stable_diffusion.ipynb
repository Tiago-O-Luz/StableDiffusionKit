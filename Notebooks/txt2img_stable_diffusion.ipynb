{
  "cells": [
    {
      "cell_type": "code",
      "execution_count": null,
      "metadata": {
        "id": "QuFz5uGi-h6G"
      },
      "outputs": [],
      "source": [
        "%pip install --quiet --upgrade diffusers transformers accelerate mediapy triton scipy ftfy spacy==3.4.4"
      ]
    },
    {
      "cell_type": "code",
      "execution_count": null,
      "metadata": {
        "id": "oP_dBQpSCIkY"
      },
      "outputs": [],
      "source": [
        "# The xformers package is mandatory to be able to create several 768x768 images.\n",
        "%pip install -q xformers==0.0.16rc425"
      ]
    },
    {
      "cell_type": "markdown",
      "metadata": {
        "id": "rT9Wa7UwgMQN"
      },
      "source": [
        "# Selecionar modelo\n",
        "Aqui você pode escolher entre um dos modelos disponíveis ou adcionar outro disponível no site hugging face. Para isso copie o nome do repositorio para o campo abaixo. Se alterar o modelo durante a exucução é necessário rodar novamente a partir deste bloco. Os modelos disponiveis aqui são:\n",
        "- stabilityai/stable-diffusion-2-1-base: Modelo stable diffusion base v2.1\n",
        "- stabilityai/stable-diffusion-2-1: Modelo stable diffusion base v2.1\n",
        "- dreamlike-art/dreamlike-photoreal-2.0: Modelo para imagens realistas\n",
        "- Ojimi/anime-kawai-diffusion: Estilo anime genérico\n",
        "- DGSpitzer/Cyberpunk-Anime-Diffusion: Modelo treinado no anime Cyberpunk: Edgerunners\n",
        "- danbrown/A-to-Zovya-RPG-v1-5: Modelo treinado em estilo fantasia"
      ]
    },
    {
      "cell_type": "code",
      "execution_count": null,
      "metadata": {
        "cellView": "form",
        "id": "GR4vF2bw-sHR"
      },
      "outputs": [],
      "source": [
        "\n",
        "model_id = \"dreamlike-art/dreamlike-photoreal-2.0\" #@param [\"stabilityai/stable-diffusion-2-1-base\", \"stabilityai/stable-diffusion-2-1\", \"dreamlike-art/dreamlike-photoreal-2.0\", \"Ojimi/anime-kawai-diffusion\",\"DGSpitzer/Cyberpunk-Anime-Diffusion\",\"danbrown/A-to-Zovya-RPG-v1-5\"] {allow-input: true}\n",
        "# model_id = \"stabilityai/stable-diffusion-2-1-base\"  # modelo stable diffusion base v2.1\n",
        "# model_id = \"stabilityai/stable-diffusion-2-1\"       # modelo stable diffusion base v2.1\n",
        "# model_id = \"dreamlike-art/dreamlike-photoreal-2.0\"  # modelo para imagens realistas\n",
        "# model_id = \"Ojimi/anime-kawai-diffusion\"            # estilo anime genérico\n",
        "# model_id = \"DGSpitzer/Cyberpunk-Anime-Diffusion\"    # modelo treinado em Cyberpunk: Edgerunners\n",
        "# model_id = \"danbrown/A-to-Zovya-RPG-v1-5\"             # modelo treinado para artes de rpg"
      ]
    },
    {
      "cell_type": "code",
      "execution_count": null,
      "metadata": {
        "id": "vF9Q0xKX8gLR"
      },
      "outputs": [],
      "source": [
        "from diffusers import PNDMScheduler, DDIMScheduler, LMSDiscreteScheduler, EulerDiscreteScheduler, DPMSolverMultistepScheduler\n",
        "\n",
        "scheduler = None\n",
        "# scheduler = PNDMScheduler.from_pretrained(model_id, subfolder=\"scheduler\")\n",
        "# scheduler = DDIMScheduler.from_pretrained(model_id, subfolder=\"scheduler\")\n",
        "# scheduler = LMSDiscreteScheduler.from_pretrained(model_id, subfolder=\"scheduler\")\n",
        "# scheduler = EulerDiscreteScheduler.from_pretrained(model_id, subfolder=\"scheduler\")\n",
        "# scheduler = DPMSolverMultistepScheduler.from_pretrained(model_id, subfolder=\"scheduler\")"
      ]
    },
    {
      "cell_type": "code",
      "execution_count": null,
      "metadata": {
        "id": "bG2hkmSEvByV"
      },
      "outputs": [],
      "source": [
        "import mediapy as media\n",
        "import torch\n",
        "from diffusers import StableDiffusionPipeline\n",
        "import random\n",
        "\n",
        "device = \"cuda\"\n",
        "\n",
        "if model_id.startswith(\"stabilityai/\"):\n",
        "  model_revision = \"fp16\"\n",
        "else:\n",
        "  model_revision = None\n",
        "\n",
        "if scheduler is None:\n",
        "  pipe = StableDiffusionPipeline.from_pretrained(\n",
        "      model_id,\n",
        "      torch_dtype=torch.float16,\n",
        "      revision=model_revision,\n",
        "      )  \n",
        "else:\n",
        "  pipe = StableDiffusionPipeline.from_pretrained(\n",
        "      model_id,\n",
        "      scheduler=scheduler,\n",
        "      torch_dtype=torch.float16,\n",
        "      revision=model_revision,\n",
        "      )\n",
        "\n",
        "pipe = pipe.to(device)\n",
        "pipe.enable_xformers_memory_efficient_attention()\n",
        "\n",
        "if model_id.endswith('-base'):\n",
        "  image_length = 512\n",
        "else:\n",
        "  image_length = 768\n"
      ]
    },
    {
      "cell_type": "code",
      "execution_count": null,
      "metadata": {
        "id": "AUc4QJfE-uR9"
      },
      "outputs": [],
      "source": [
        "#@title Prompt\n",
        "#@markdown O que se deseja na imagem:\n",
        "prompt = \"\\\"A world of fire, atmospheric, hyper realistic, 8k, epic composition, cinematic, octane render, artstation landscape\\\"\" #@param {type:\"string\"}\n",
        "#@markdown O que deve se evitar na imagem:\n",
        "negative_prompt = \"blurry, low resolution, bad composition, weird faces, weird hands\" #@param {type:\"string\"}\n",
        "\n",
        "#@markdown Para resolucoes altas diminuir o numero de imagens (Resolucao alta nao recomendada se rodando pelo google collab. Pode causar bloqueio de acesso a gpu)\n",
        "num_images = 2 #@param {type: \"integer\"}\n",
        "\n",
        "image_width = 512 #@param {type:\"integer\"}\n",
        "image_height = 512 #@param {type:\"integer\"}\n",
        "num_steps = 50 #@param {type:\"integer\"}\n",
        "guidance_scale = 9 #@param {type:\"slider\", min:0, max:10, step:1}\n",
        "#@markdown Seed aleatoria para valores menor que 0\n",
        "seed = 1628444291 #@param {type:\"integer\"}\n",
        "remove_safety = False #@param {type:\"boolean\"}\n",
        "#@markdown salva imagens como output_0,..,output_n\n",
        "save_output = True #@param {type: \"boolean\"} \n",
        "if remove_safety:\n",
        "  pipe.safety_checker = None\n",
        "else:\n",
        "  negative_prompt = negative_prompt.join(\"nude, naked, gore, nsfw\")\n",
        "\n",
        "if seed < 0: seed = random.randint(0, 2147483647)\n",
        "images = pipe(\n",
        "    prompt,\n",
        "    height = image_height,\n",
        "    width = image_width,\n",
        "    num_inference_steps = num_steps,\n",
        "    guidance_scale = guidance_scale,\n",
        "    num_images_per_prompt = num_images,\n",
        "    negative_prompt = negative_prompt,\n",
        "    generator = torch.Generator(\"cuda\").manual_seed(seed)\n",
        "    ).images\n",
        "    \n",
        "media.show_images(images)\n",
        "display(f\"Seed: {seed}\")\n",
        "if save_output:\n",
        "  for i, image in enumerate(images):\n",
        "    image.save(f\"output_{i}.jpg\")\n"
      ]
    }
  ],
  "metadata": {
    "accelerator": "GPU",
    "colab": {
      "gpuType": "T4",
      "private_outputs": true,
      "provenance": []
    },
    "gpuClass": "standard",
    "kernelspec": {
      "display_name": "Python 3",
      "name": "python3"
    },
    "language_info": {
      "name": "python"
    }
  },
  "nbformat": 4,
  "nbformat_minor": 0
}
